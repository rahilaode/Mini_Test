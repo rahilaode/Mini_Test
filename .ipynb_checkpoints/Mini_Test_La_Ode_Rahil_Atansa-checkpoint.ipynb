{
 "cells": [
  {
   "cell_type": "markdown",
   "id": "fefed81c",
   "metadata": {},
   "source": [
    "# Soal Nomor 1"
   ]
  },
  {
   "cell_type": "code",
   "execution_count": 1,
   "id": "9df69eb6",
   "metadata": {},
   "outputs": [
    {
     "name": "stdout",
     "output_type": "stream",
     "text": [
      "1, 2, Apa, 4, Bole, Apa, 7, 8, Apa, Bole, 11, Apa, 13, 14, ApaBole, 16, 17, Apa, 19, Bole, Apa, 22, 23, Apa, Bole, 26, Apa, 28, 29, ApaBole, 31, 32, Apa, 34, Bole, Apa, 37, 38, Apa, Bole, 41, Apa, 43, 44, ApaBole, 46, 47, Apa, 49, Bole, Apa, 52, 53, Apa, Bole, 56, Apa, 58, 59, ApaBole, 61, 62, Apa, 64, Bole, Apa, 67, 68, Apa, Bole, 71, Apa, 73, 74, ApaBole, 76, 77, Apa, 79, Bole, Apa, 82, 83, Apa, Bole, 86, Apa, 88, 89, ApaBole, 91, 92, Apa, 94, Bole, Apa, 97, 98, Apa, Bole\n"
     ]
    }
   ],
   "source": [
    "string = ''\n",
    "for i in range(1, 101):\n",
    "    if (i%3==0 and i%5==0):\n",
    "        string += 'ApaBole, '\n",
    "    elif (i%3==0):\n",
    "        string += 'Apa, '\n",
    "    elif (i%5==0):\n",
    "        if(i==100):\n",
    "            string += 'Bole'\n",
    "        else:\n",
    "            string += 'Bole, '\n",
    "    else:\n",
    "        string += str(i)+', ' \n",
    "        \n",
    "print(string)"
   ]
  },
  {
   "cell_type": "markdown",
   "id": "6e6eb41e",
   "metadata": {},
   "source": [
    "# Soal Nomor 2"
   ]
  },
  {
   "cell_type": "code",
   "execution_count": 2,
   "id": "3fc73172",
   "metadata": {},
   "outputs": [],
   "source": [
    "import pandas as pd\n",
    "\n",
    "df_sample = pd.read_csv('sample_problem.csv')\n",
    "df_sample_output = pd.read_csv('sample_output.csv')"
   ]
  },
  {
   "cell_type": "code",
   "execution_count": 3,
   "id": "838e6f5f",
   "metadata": {},
   "outputs": [
    {
     "data": {
      "text/html": [
       "<div>\n",
       "<style scoped>\n",
       "    .dataframe tbody tr th:only-of-type {\n",
       "        vertical-align: middle;\n",
       "    }\n",
       "\n",
       "    .dataframe tbody tr th {\n",
       "        vertical-align: top;\n",
       "    }\n",
       "\n",
       "    .dataframe thead th {\n",
       "        text-align: right;\n",
       "    }\n",
       "</style>\n",
       "<table border=\"1\" class=\"dataframe\">\n",
       "  <thead>\n",
       "    <tr style=\"text-align: right;\">\n",
       "      <th></th>\n",
       "      <th>user_name</th>\n",
       "      <th>transaction_value</th>\n",
       "      <th>transaction_date</th>\n",
       "    </tr>\n",
       "  </thead>\n",
       "  <tbody>\n",
       "    <tr>\n",
       "      <th>0</th>\n",
       "      <td>Foo</td>\n",
       "      <td>50</td>\n",
       "      <td>2022-01-10</td>\n",
       "    </tr>\n",
       "    <tr>\n",
       "      <th>1</th>\n",
       "      <td>Bar</td>\n",
       "      <td>100</td>\n",
       "      <td>2022-01-01</td>\n",
       "    </tr>\n",
       "    <tr>\n",
       "      <th>2</th>\n",
       "      <td>Alice</td>\n",
       "      <td>75</td>\n",
       "      <td>2022-01-26</td>\n",
       "    </tr>\n",
       "    <tr>\n",
       "      <th>3</th>\n",
       "      <td>Bob</td>\n",
       "      <td>20</td>\n",
       "      <td>2022-02-05</td>\n",
       "    </tr>\n",
       "    <tr>\n",
       "      <th>4</th>\n",
       "      <td>Bar</td>\n",
       "      <td>40</td>\n",
       "      <td>2022-01-01</td>\n",
       "    </tr>\n",
       "    <tr>\n",
       "      <th>5</th>\n",
       "      <td>Alice</td>\n",
       "      <td>50</td>\n",
       "      <td>2022-01-01</td>\n",
       "    </tr>\n",
       "    <tr>\n",
       "      <th>6</th>\n",
       "      <td>Bob</td>\n",
       "      <td>80</td>\n",
       "      <td>2022-01-04</td>\n",
       "    </tr>\n",
       "    <tr>\n",
       "      <th>7</th>\n",
       "      <td>Alice</td>\n",
       "      <td>95</td>\n",
       "      <td>2022-01-01</td>\n",
       "    </tr>\n",
       "  </tbody>\n",
       "</table>\n",
       "</div>"
      ],
      "text/plain": [
       "  user_name  transaction_value transaction_date\n",
       "0       Foo                 50       2022-01-10\n",
       "1       Bar                100       2022-01-01\n",
       "2     Alice                 75       2022-01-26\n",
       "3       Bob                 20       2022-02-05\n",
       "4       Bar                 40       2022-01-01\n",
       "5     Alice                 50       2022-01-01\n",
       "6       Bob                 80       2022-01-04\n",
       "7     Alice                 95       2022-01-01"
      ]
     },
     "execution_count": 3,
     "metadata": {},
     "output_type": "execute_result"
    }
   ],
   "source": [
    "df_sample"
   ]
  },
  {
   "cell_type": "code",
   "execution_count": 4,
   "id": "7bc9f690",
   "metadata": {},
   "outputs": [
    {
     "data": {
      "text/html": [
       "<div>\n",
       "<style scoped>\n",
       "    .dataframe tbody tr th:only-of-type {\n",
       "        vertical-align: middle;\n",
       "    }\n",
       "\n",
       "    .dataframe tbody tr th {\n",
       "        vertical-align: top;\n",
       "    }\n",
       "\n",
       "    .dataframe thead th {\n",
       "        text-align: right;\n",
       "    }\n",
       "</style>\n",
       "<table border=\"1\" class=\"dataframe\">\n",
       "  <thead>\n",
       "    <tr style=\"text-align: right;\">\n",
       "      <th></th>\n",
       "      <th>user_name</th>\n",
       "      <th>transaction_value</th>\n",
       "      <th>last_transaction_date</th>\n",
       "    </tr>\n",
       "  </thead>\n",
       "  <tbody>\n",
       "    <tr>\n",
       "      <th>0</th>\n",
       "      <td>Foo</td>\n",
       "      <td>50</td>\n",
       "      <td>2022-01-10</td>\n",
       "    </tr>\n",
       "    <tr>\n",
       "      <th>1</th>\n",
       "      <td>Bar</td>\n",
       "      <td>140</td>\n",
       "      <td>2022-01-01</td>\n",
       "    </tr>\n",
       "    <tr>\n",
       "      <th>2</th>\n",
       "      <td>Alice</td>\n",
       "      <td>220</td>\n",
       "      <td>2022-01-26</td>\n",
       "    </tr>\n",
       "    <tr>\n",
       "      <th>3</th>\n",
       "      <td>Bob</td>\n",
       "      <td>100</td>\n",
       "      <td>2022-02-05</td>\n",
       "    </tr>\n",
       "  </tbody>\n",
       "</table>\n",
       "</div>"
      ],
      "text/plain": [
       "  user_name  transaction_value last_transaction_date\n",
       "0       Foo                 50            2022-01-10\n",
       "1       Bar                140            2022-01-01\n",
       "2     Alice                220            2022-01-26\n",
       "3       Bob                100            2022-02-05"
      ]
     },
     "execution_count": 4,
     "metadata": {},
     "output_type": "execute_result"
    }
   ],
   "source": [
    "df_sample_output"
   ]
  },
  {
   "cell_type": "code",
   "execution_count": 5,
   "id": "9cc6a9c4",
   "metadata": {},
   "outputs": [
    {
     "name": "stdout",
     "output_type": "stream",
     "text": [
      "Info Data Awal\n",
      "<class 'pandas.core.frame.DataFrame'>\n",
      "RangeIndex: 8 entries, 0 to 7\n",
      "Data columns (total 3 columns):\n",
      " #   Column             Non-Null Count  Dtype \n",
      "---  ------             --------------  ----- \n",
      " 0   user_name          8 non-null      object\n",
      " 1   transaction_value  8 non-null      int64 \n",
      " 2   transaction_date   8 non-null      object\n",
      "dtypes: int64(1), object(2)\n",
      "memory usage: 320.0+ bytes\n"
     ]
    }
   ],
   "source": [
    "print('Info Data Awal')\n",
    "df_sample.info()"
   ]
  },
  {
   "cell_type": "code",
   "execution_count": 6,
   "id": "25815acb",
   "metadata": {},
   "outputs": [
    {
     "name": "stdout",
     "output_type": "stream",
     "text": [
      "Info Data Target Output\n",
      "<class 'pandas.core.frame.DataFrame'>\n",
      "RangeIndex: 4 entries, 0 to 3\n",
      "Data columns (total 3 columns):\n",
      " #   Column                 Non-Null Count  Dtype \n",
      "---  ------                 --------------  ----- \n",
      " 0   user_name              4 non-null      object\n",
      " 1   transaction_value      4 non-null      int64 \n",
      " 2   last_transaction_date  4 non-null      object\n",
      "dtypes: int64(1), object(2)\n",
      "memory usage: 224.0+ bytes\n"
     ]
    }
   ],
   "source": [
    "print('Info Data Target Output')\n",
    "df_sample_output.info()"
   ]
  },
  {
   "cell_type": "markdown",
   "id": "27181a1b",
   "metadata": {},
   "source": [
    "Berdasarkan pada data sample_output, terdapat perbedaan dengan data sample_problem. Perbedaan tersebut yaitu sebagai berikut :\n",
    "\n",
    "1. Data sample_output merupakan hasil grouping berdasarkan unique pada kolom user_name\n",
    "2. Perbedaan Nama kolom transaction_date antara sample_problem dan sample_output. Pada data sample_output nama kolomnya menjadi last_transaction_date yang mana baris dari kolom tersebut merupakan tanggal transaksi terakhir dari tiap unique pada kolom user_name.\n",
    "3. Pada kolom transaction_value dari data sample_output merupakan hasil sum atau penjumlahan nilai transaksi dari tiap unique pada kolom user_name"
   ]
  },
  {
   "cell_type": "markdown",
   "id": "833867ed",
   "metadata": {},
   "source": [
    "### Step 1. Rubah tipe data pada kolom transaction_date"
   ]
  },
  {
   "cell_type": "code",
   "execution_count": 7,
   "id": "aba9a7cf",
   "metadata": {},
   "outputs": [
    {
     "name": "stdout",
     "output_type": "stream",
     "text": [
      "  user_name  transaction_value transaction_date\n",
      "0       Foo                 50       2022-01-10\n",
      "1       Bar                100       2022-01-01\n",
      "2     Alice                 75       2022-01-26\n",
      "3       Bob                 20       2022-02-05\n",
      "4       Bar                 40       2022-01-01\n",
      "5     Alice                 50       2022-01-01\n",
      "6       Bob                 80       2022-01-04\n",
      "7     Alice                 95       2022-01-01\n",
      "<class 'pandas.core.frame.DataFrame'>\n",
      "RangeIndex: 8 entries, 0 to 7\n",
      "Data columns (total 3 columns):\n",
      " #   Column             Non-Null Count  Dtype         \n",
      "---  ------             --------------  -----         \n",
      " 0   user_name          8 non-null      object        \n",
      " 1   transaction_value  8 non-null      int64         \n",
      " 2   transaction_date   8 non-null      datetime64[ns]\n",
      "dtypes: datetime64[ns](1), int64(1), object(1)\n",
      "memory usage: 320.0+ bytes\n",
      "None\n"
     ]
    }
   ],
   "source": [
    "df_sample['transaction_date']= pd.to_datetime(df_sample['transaction_date'])\n",
    "print(df_sample)\n",
    "print(df_sample.info())"
   ]
  },
  {
   "cell_type": "markdown",
   "id": "0fd0ad35",
   "metadata": {},
   "source": [
    "### Step 2. Menjumlahkan nilai 'transaction_value' berdasarkan setiap unique 'user_name'"
   ]
  },
  {
   "cell_type": "code",
   "execution_count": 8,
   "id": "5e8be4bb",
   "metadata": {
    "scrolled": true
   },
   "outputs": [
    {
     "data": {
      "text/html": [
       "<div>\n",
       "<style scoped>\n",
       "    .dataframe tbody tr th:only-of-type {\n",
       "        vertical-align: middle;\n",
       "    }\n",
       "\n",
       "    .dataframe tbody tr th {\n",
       "        vertical-align: top;\n",
       "    }\n",
       "\n",
       "    .dataframe thead th {\n",
       "        text-align: right;\n",
       "    }\n",
       "</style>\n",
       "<table border=\"1\" class=\"dataframe\">\n",
       "  <thead>\n",
       "    <tr style=\"text-align: right;\">\n",
       "      <th></th>\n",
       "      <th>user_name</th>\n",
       "      <th>transaction_value</th>\n",
       "    </tr>\n",
       "  </thead>\n",
       "  <tbody>\n",
       "    <tr>\n",
       "      <th>0</th>\n",
       "      <td>Foo</td>\n",
       "      <td>50</td>\n",
       "    </tr>\n",
       "    <tr>\n",
       "      <th>1</th>\n",
       "      <td>Bar</td>\n",
       "      <td>140</td>\n",
       "    </tr>\n",
       "    <tr>\n",
       "      <th>2</th>\n",
       "      <td>Alice</td>\n",
       "      <td>220</td>\n",
       "    </tr>\n",
       "    <tr>\n",
       "      <th>3</th>\n",
       "      <td>Bob</td>\n",
       "      <td>100</td>\n",
       "    </tr>\n",
       "  </tbody>\n",
       "</table>\n",
       "</div>"
      ],
      "text/plain": [
       "  user_name  transaction_value\n",
       "0       Foo                 50\n",
       "1       Bar                140\n",
       "2     Alice                220\n",
       "3       Bob                100"
      ]
     },
     "execution_count": 8,
     "metadata": {},
     "output_type": "execute_result"
    }
   ],
   "source": [
    "df_sample_tvalue = df_sample.groupby('user_name', as_index = False, sort = False)['transaction_value'].sum()\n",
    "df_sample_tvalue"
   ]
  },
  {
   "cell_type": "markdown",
   "id": "3f6b855d",
   "metadata": {},
   "source": [
    "### Step 3. Mengambil nilai 'transaction_date' terakhir berdasarkan setiap unique pada kolom 'user_name' dan mengganti nama kolom menjadi 'last_transaction_date'"
   ]
  },
  {
   "cell_type": "code",
   "execution_count": 9,
   "id": "bc75fad3",
   "metadata": {},
   "outputs": [
    {
     "data": {
      "text/html": [
       "<div>\n",
       "<style scoped>\n",
       "    .dataframe tbody tr th:only-of-type {\n",
       "        vertical-align: middle;\n",
       "    }\n",
       "\n",
       "    .dataframe tbody tr th {\n",
       "        vertical-align: top;\n",
       "    }\n",
       "\n",
       "    .dataframe thead th {\n",
       "        text-align: right;\n",
       "    }\n",
       "</style>\n",
       "<table border=\"1\" class=\"dataframe\">\n",
       "  <thead>\n",
       "    <tr style=\"text-align: right;\">\n",
       "      <th></th>\n",
       "      <th>user_name</th>\n",
       "      <th>last_transaction_date</th>\n",
       "    </tr>\n",
       "  </thead>\n",
       "  <tbody>\n",
       "    <tr>\n",
       "      <th>0</th>\n",
       "      <td>Foo</td>\n",
       "      <td>2022-01-10</td>\n",
       "    </tr>\n",
       "    <tr>\n",
       "      <th>1</th>\n",
       "      <td>Bar</td>\n",
       "      <td>2022-01-01</td>\n",
       "    </tr>\n",
       "    <tr>\n",
       "      <th>2</th>\n",
       "      <td>Alice</td>\n",
       "      <td>2022-01-26</td>\n",
       "    </tr>\n",
       "    <tr>\n",
       "      <th>3</th>\n",
       "      <td>Bob</td>\n",
       "      <td>2022-02-05</td>\n",
       "    </tr>\n",
       "  </tbody>\n",
       "</table>\n",
       "</div>"
      ],
      "text/plain": [
       "  user_name last_transaction_date\n",
       "0       Foo            2022-01-10\n",
       "1       Bar            2022-01-01\n",
       "2     Alice            2022-01-26\n",
       "3       Bob            2022-02-05"
      ]
     },
     "execution_count": 9,
     "metadata": {},
     "output_type": "execute_result"
    }
   ],
   "source": [
    "df_sample_tdate = df_sample.loc[df_sample.groupby('user_name', sort = False).transaction_date.idxmax()]\n",
    "df_sample_tdate.rename(columns={'transaction_date':'last_transaction_date'}, inplace=True)\n",
    "df_sample_tdate = df_sample_tdate.drop(['transaction_value'], axis = 1)\n",
    "df_sample_tdate"
   ]
  },
  {
   "cell_type": "markdown",
   "id": "2a074027",
   "metadata": {},
   "source": [
    "### Step 4. Penggabungan data"
   ]
  },
  {
   "cell_type": "code",
   "execution_count": 10,
   "id": "b347914f",
   "metadata": {},
   "outputs": [
    {
     "data": {
      "text/html": [
       "<div>\n",
       "<style scoped>\n",
       "    .dataframe tbody tr th:only-of-type {\n",
       "        vertical-align: middle;\n",
       "    }\n",
       "\n",
       "    .dataframe tbody tr th {\n",
       "        vertical-align: top;\n",
       "    }\n",
       "\n",
       "    .dataframe thead th {\n",
       "        text-align: right;\n",
       "    }\n",
       "</style>\n",
       "<table border=\"1\" class=\"dataframe\">\n",
       "  <thead>\n",
       "    <tr style=\"text-align: right;\">\n",
       "      <th></th>\n",
       "      <th>user_name</th>\n",
       "      <th>transaction_value</th>\n",
       "      <th>last_transaction_date</th>\n",
       "    </tr>\n",
       "  </thead>\n",
       "  <tbody>\n",
       "    <tr>\n",
       "      <th>0</th>\n",
       "      <td>Foo</td>\n",
       "      <td>50</td>\n",
       "      <td>2022-01-10</td>\n",
       "    </tr>\n",
       "    <tr>\n",
       "      <th>1</th>\n",
       "      <td>Bar</td>\n",
       "      <td>140</td>\n",
       "      <td>2022-01-01</td>\n",
       "    </tr>\n",
       "    <tr>\n",
       "      <th>2</th>\n",
       "      <td>Alice</td>\n",
       "      <td>220</td>\n",
       "      <td>2022-01-26</td>\n",
       "    </tr>\n",
       "    <tr>\n",
       "      <th>3</th>\n",
       "      <td>Bob</td>\n",
       "      <td>100</td>\n",
       "      <td>2022-02-05</td>\n",
       "    </tr>\n",
       "  </tbody>\n",
       "</table>\n",
       "</div>"
      ],
      "text/plain": [
       "  user_name  transaction_value last_transaction_date\n",
       "0       Foo                 50            2022-01-10\n",
       "1       Bar                140            2022-01-01\n",
       "2     Alice                220            2022-01-26\n",
       "3       Bob                100            2022-02-05"
      ]
     },
     "execution_count": 10,
     "metadata": {},
     "output_type": "execute_result"
    }
   ],
   "source": [
    "df_final = pd.merge(df_sample_tvalue, df_sample_tdate, on='user_name')\n",
    "df_final"
   ]
  },
  {
   "cell_type": "markdown",
   "id": "27f61ef4",
   "metadata": {},
   "source": [
    "### Step 5. Cek kesamaan isi data"
   ]
  },
  {
   "cell_type": "code",
   "execution_count": 11,
   "id": "dcf4dd9d",
   "metadata": {},
   "outputs": [
    {
     "data": {
      "text/html": [
       "<div>\n",
       "<style scoped>\n",
       "    .dataframe tbody tr th:only-of-type {\n",
       "        vertical-align: middle;\n",
       "    }\n",
       "\n",
       "    .dataframe tbody tr th {\n",
       "        vertical-align: top;\n",
       "    }\n",
       "\n",
       "    .dataframe thead th {\n",
       "        text-align: right;\n",
       "    }\n",
       "</style>\n",
       "<table border=\"1\" class=\"dataframe\">\n",
       "  <thead>\n",
       "    <tr style=\"text-align: right;\">\n",
       "      <th></th>\n",
       "      <th>user_name</th>\n",
       "      <th>transaction_value</th>\n",
       "      <th>last_transaction_date</th>\n",
       "    </tr>\n",
       "  </thead>\n",
       "  <tbody>\n",
       "    <tr>\n",
       "      <th>0</th>\n",
       "      <td>True</td>\n",
       "      <td>True</td>\n",
       "      <td>True</td>\n",
       "    </tr>\n",
       "    <tr>\n",
       "      <th>1</th>\n",
       "      <td>True</td>\n",
       "      <td>True</td>\n",
       "      <td>True</td>\n",
       "    </tr>\n",
       "    <tr>\n",
       "      <th>2</th>\n",
       "      <td>True</td>\n",
       "      <td>True</td>\n",
       "      <td>True</td>\n",
       "    </tr>\n",
       "    <tr>\n",
       "      <th>3</th>\n",
       "      <td>True</td>\n",
       "      <td>True</td>\n",
       "      <td>True</td>\n",
       "    </tr>\n",
       "  </tbody>\n",
       "</table>\n",
       "</div>"
      ],
      "text/plain": [
       "   user_name  transaction_value  last_transaction_date\n",
       "0       True               True                   True\n",
       "1       True               True                   True\n",
       "2       True               True                   True\n",
       "3       True               True                   True"
      ]
     },
     "execution_count": 11,
     "metadata": {},
     "output_type": "execute_result"
    }
   ],
   "source": [
    "df_final == df_sample_output"
   ]
  },
  {
   "cell_type": "markdown",
   "id": "762accdc",
   "metadata": {},
   "source": [
    "### Step 6. Cek kesamaan tipe data"
   ]
  },
  {
   "cell_type": "code",
   "execution_count": 12,
   "id": "f5b7dd4d",
   "metadata": {},
   "outputs": [
    {
     "data": {
      "text/plain": [
       "user_name                 True\n",
       "transaction_value         True\n",
       "last_transaction_date    False\n",
       "dtype: bool"
      ]
     },
     "execution_count": 12,
     "metadata": {},
     "output_type": "execute_result"
    }
   ],
   "source": [
    "df_final.dtypes == df_sample_output.dtypes"
   ]
  },
  {
   "cell_type": "markdown",
   "id": "0d1333df",
   "metadata": {},
   "source": [
    "Dapat dilihat bahwa pada bagian isi sudah memiliki kesamaan, namun pada tipe data pada kolom last_transaction_date memiliki perbedaan tipe data."
   ]
  },
  {
   "cell_type": "markdown",
   "id": "13970e85",
   "metadata": {},
   "source": [
    "### Step 7. Menyamakan tipe data pada kolom 'last_transaction_date'"
   ]
  },
  {
   "cell_type": "code",
   "execution_count": 13,
   "id": "c2c2d891",
   "metadata": {},
   "outputs": [],
   "source": [
    "df_final['last_transaction_date'] = pd.to_datetime(df_final['last_transaction_date']).dt.date"
   ]
  },
  {
   "cell_type": "code",
   "execution_count": 14,
   "id": "2313506f",
   "metadata": {},
   "outputs": [
    {
     "data": {
      "text/plain": [
       "user_name                True\n",
       "transaction_value        True\n",
       "last_transaction_date    True\n",
       "dtype: bool"
      ]
     },
     "execution_count": 14,
     "metadata": {},
     "output_type": "execute_result"
    }
   ],
   "source": [
    "df_final.dtypes == df_sample_output.dtypes"
   ]
  },
  {
   "cell_type": "markdown",
   "id": "f4251dfb",
   "metadata": {},
   "source": [
    "### Hasil Akhir Data"
   ]
  },
  {
   "cell_type": "code",
   "execution_count": 15,
   "id": "62a3ad87",
   "metadata": {},
   "outputs": [
    {
     "data": {
      "text/html": [
       "<div>\n",
       "<style scoped>\n",
       "    .dataframe tbody tr th:only-of-type {\n",
       "        vertical-align: middle;\n",
       "    }\n",
       "\n",
       "    .dataframe tbody tr th {\n",
       "        vertical-align: top;\n",
       "    }\n",
       "\n",
       "    .dataframe thead th {\n",
       "        text-align: right;\n",
       "    }\n",
       "</style>\n",
       "<table border=\"1\" class=\"dataframe\">\n",
       "  <thead>\n",
       "    <tr style=\"text-align: right;\">\n",
       "      <th></th>\n",
       "      <th>user_name</th>\n",
       "      <th>transaction_value</th>\n",
       "      <th>last_transaction_date</th>\n",
       "    </tr>\n",
       "  </thead>\n",
       "  <tbody>\n",
       "    <tr>\n",
       "      <th>0</th>\n",
       "      <td>Foo</td>\n",
       "      <td>50</td>\n",
       "      <td>2022-01-10</td>\n",
       "    </tr>\n",
       "    <tr>\n",
       "      <th>1</th>\n",
       "      <td>Bar</td>\n",
       "      <td>140</td>\n",
       "      <td>2022-01-01</td>\n",
       "    </tr>\n",
       "    <tr>\n",
       "      <th>2</th>\n",
       "      <td>Alice</td>\n",
       "      <td>220</td>\n",
       "      <td>2022-01-26</td>\n",
       "    </tr>\n",
       "    <tr>\n",
       "      <th>3</th>\n",
       "      <td>Bob</td>\n",
       "      <td>100</td>\n",
       "      <td>2022-02-05</td>\n",
       "    </tr>\n",
       "  </tbody>\n",
       "</table>\n",
       "</div>"
      ],
      "text/plain": [
       "  user_name  transaction_value last_transaction_date\n",
       "0       Foo                 50            2022-01-10\n",
       "1       Bar                140            2022-01-01\n",
       "2     Alice                220            2022-01-26\n",
       "3       Bob                100            2022-02-05"
      ]
     },
     "execution_count": 15,
     "metadata": {},
     "output_type": "execute_result"
    }
   ],
   "source": [
    "df_final"
   ]
  }
 ],
 "metadata": {
  "kernelspec": {
   "display_name": "Python 3 (ipykernel)",
   "language": "python",
   "name": "python3"
  },
  "language_info": {
   "codemirror_mode": {
    "name": "ipython",
    "version": 3
   },
   "file_extension": ".py",
   "mimetype": "text/x-python",
   "name": "python",
   "nbconvert_exporter": "python",
   "pygments_lexer": "ipython3",
   "version": "3.9.12"
  }
 },
 "nbformat": 4,
 "nbformat_minor": 5
}
